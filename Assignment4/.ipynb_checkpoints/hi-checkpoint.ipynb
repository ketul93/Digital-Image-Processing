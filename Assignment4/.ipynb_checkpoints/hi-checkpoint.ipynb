{
 "cells": [
  {
   "cell_type": "markdown",
   "metadata": {
    "deletable": true,
    "editable": true
   },
   "source": [
    "#  Spatial Filtering"
   ]
  },
  {
   "cell_type": "markdown",
   "metadata": {
    "deletable": true,
    "editable": true
   },
   "source": [
    "# Question 1"
   ]
  },
  {
   "cell_type": "code",
   "execution_count": 4,
   "metadata": {
    "collapsed": false,
    "deletable": true,
    "editable": true
   },
   "outputs": [
    {
     "name": "stdout",
     "output_type": "stream",
     "text": [
      "Using matplotlib backend: Qt5Agg\n"
     ]
    }
   ],
   "source": [
    "import cv2\n",
    "import matplotlib\n",
    "%matplotlib\n",
    "import matplotlib.pyplot as plt\n",
    "import numpy as np\n",
    "import math"
   ]
  },
  {
   "cell_type": "code",
   "execution_count": 1,
   "metadata": {
    "collapsed": true,
    "deletable": true,
    "editable": true
   },
   "outputs": [],
   "source": [
    "def convolution(img,kernel=0,kernel_type='none'):\n",
    "    output = np.zeros_like(img)           \n",
    "    # Add zero padding to the input image\n",
    "    kernel_x = kernel.shape[0]\n",
    "    kernel_y = kernel.shape[1]\n",
    "    image_padded = np.zeros((img.shape[0] + (kernel_x-1) , img.shape[1] + kernel_y-1))   \n",
    "    image_padded[1:-1, 1:-1] = img\n",
    "    #print(image_padded)\n",
    "    if kernel_type == 'median':\n",
    "        for x in range(kernel_x//2,img.shape[0]+kernel_x//2):     \n",
    "            for y in range(kernel_y//2,img.shape[1]+kernel_y//2):\n",
    "               # print(x-kernel_x//2,y-kernel_y//2)\n",
    "                # element wise multiplication of the image pixels and kernel\n",
    "                array = image_padded[x-kernel_x//2:x+kernel_x//2+1,y-kernel_y//2:y+kernel_y//2+1]\n",
    "                output[x-kernel_x//2,y-kernel_y//2] = np.median(array)\n",
    "    else:        \n",
    "        for x in range(kernel_x//2,img.shape[0]+kernel_x//2):     \n",
    "            for y in range(kernel_y//2,img.shape[1]+kernel_y//2):\n",
    "               # print(x-kernel_x//2,y-kernel_y//2)\n",
    "                # element wise multiplication of the image pixels and kernel\n",
    "                output[x-kernel_x//2,y-kernel_y//2]=int(((kernel*image_padded[x-kernel_x//2:x+kernel_x//2+1,y-kernel_y//2:y+kernel_y//2+1]).sum()))        \n",
    "    return output"
   ]
  },
  {
   "cell_type": "code",
   "execution_count": 18,
   "metadata": {
    "collapsed": true,
    "deletable": true,
    "editable": true
   },
   "outputs": [],
   "source": [
    "def imnoise(img,noise_type,amt=0):\n",
    "    if(noise_type == 'gaussian'):\n",
    "        row,col = img.shape\n",
    "        mean = 5\n",
    "        var = 15\n",
    "        sigma = var**0.5\n",
    "        gauss_noise = np.random.normal(mean,sigma,(row,col))\n",
    "        gauss_noise = gauss_noise.reshape(row,col)\n",
    "        noisy_img = img + gauss_noise\n",
    "        return noisy_img\n",
    "    elif noise_type == \"s&p\":\n",
    "        row,col= img.shape\n",
    "        s_vs_p = 0.5\n",
    "        amount = amt\n",
    "        out = np.copy(img)\n",
    "      # Salt mode\n",
    "        num_salt = np.ceil((amount/2) * img.size * s_vs_p)\n",
    "        coords = [np.random.randint(0, i - 1, int(num_salt))\n",
    "                  for i in img.shape]\n",
    "        out[coords] = 255\n",
    "\n",
    "      # Pepper mode\n",
    "        num_pepper = np.ceil((amount/2)* img.size * (1. - s_vs_p))\n",
    "        coords = [np.random.randint(0, i - 1, int(num_pepper))\n",
    "              for i in img.shape]\n",
    "        out[coords] = 0\n",
    "        return out\n",
    "    else:\n",
    "        return"
   ]
  },
  {
   "cell_type": "code",
   "execution_count": 19,
   "metadata": {
    "collapsed": true,
    "deletable": true,
    "editable": true
   },
   "outputs": [],
   "source": [
    "img = cv2.imread(\"/media/shubham/New Volume/DAIICT/2nd sem/DIP/assignment4/lena.jpg\",0)\n",
    "kernel = np.array([[0,-1,0],[-1,5,-1],[0,-1,0]])\n",
    "noise_remove_kernel = np.array([[1,1,1],[1,1,1],[1,1,1]])*(1/9) #mean filter\n",
    "given_kernel = np.reshape(kernel,(3,3))\n",
    "kernel = np.zeros(given_kernel.shape)\n",
    "\n",
    "#flipping kernel\n",
    "for i in range(0,kernel.shape[0]):\n",
    "    for j in raange(0,kernel.shape[1]):\n",
    "        kernel[i,j] = given_kernel[-i+(given_kernel.shape[0]-1),-j+(given_kernel.shape[1]-1)]\n",
    "# image after adding noise\n",
    "density = [0.05,0.1,0.2 ]\n",
    "for dens in density:\n",
    "    noisy_img  = imnoise(img,'s&p',dens)\n",
    "    output_noisy = convolution(noisy_img,kernel,'median')\n",
    "    #noisy image\n",
    "    plt.figure()\n",
    "    plt.subplot(121)\n",
    "    plt.imshow(noisy_img)\n",
    "    plt.gray()\n",
    "    plt.show()\n",
    "\n",
    "    #output of noisy image convolution\n",
    "    plt.subplot(122)\n",
    "    plt.imshow(output_noisy)\n",
    "    plt.gray()\n",
    "    plt.show()"
   ]
  },
  {
   "cell_type": "markdown",
   "metadata": {
    "deletable": true,
    "editable": true
   },
   "source": [
    "# Question 2"
   ]
  },
  {
   "cell_type": "code",
   "execution_count": 154,
   "metadata": {
    "collapsed": false,
    "deletable": true,
    "editable": true
   },
   "outputs": [
    {
     "name": "stdout",
     "output_type": "stream",
     "text": [
      "(202, 202) (202, 202)\n",
      "101 101\n"
     ]
    }
   ],
   "source": [
    "img = cv2.imread(\"/media/shubham/New Volume/DAIICT/2nd sem/DIP/assignment4/lena.jpg\",0)\n",
    "img1 = np.copy(img)\n",
    "plt.figure()\n",
    "plt.gray()\n",
    "plt.imshow(img1)\n",
    "noise_remove_kernel = np.array([[1,1,1],[1,1,1],[1,1,1]])*(1/9) #mean filter\n",
    "#noise_remove_kernel = np.array([[-1,2,1],[0,1,2],[-1,1,0]])\n",
    "rows,cols = img.shape\n",
    "r,c = noise_remove_kernel.shape\n",
    "\n",
    "#shifting low frequencies to middle \n",
    "for i in range(0,rows):\n",
    "     for j in range(0,cols):\n",
    "        img1[i,j] = img1[i,j]*((-1)**(i+j))\n",
    "# -------------------------------------------------------------------------------------        \n",
    "#padding of image and kernel\n",
    "\n",
    "img_padded = np.zeros((rows+r-1,cols+c-1))\n",
    "#print(\"a_tempo shape \",a_temp.shape)\n",
    "kernel_padded = np.zeros_like(img_padded)\n",
    "print(img_padded.shape,kernel_padded.shape)\n",
    "\n",
    "img_padded[1:-1,1:-1] = img1\n",
    "m,n = kernel_padded.shape\n",
    "m = m//2\n",
    "n = n//2\n",
    "print(m,n)\n",
    "#kernel_padded[m-1:m-1+r,n-1:n-1+c]= noise_remove_kernel\n",
    "kernel_padded[0:r,0:c] = noise_remove_kernel\n",
    "for i in range(0,kernel_padded.shape[0]):\n",
    "     for j in range(0,kernel_padded.shape[1]):\n",
    "        kernel_padded[i,j] = kernel_padded[i,j]*((-1)**(i+j))\n",
    "#kernel_padded[0:r,0:c] = noise_remove_kernel\n",
    "\n",
    "#--------------------------------------------------------------------------\n",
    "\n",
    "\n",
    "\n",
    "# 2D FFT of  image\n",
    "img_padded = np.fft.fft(img_padded,axis=1)\n",
    "img_padded = np.fft.fft(img_padded,axis=0)\n",
    "\n",
    "# 2D fft of kernel\n",
    "\n",
    "kernel_padded= np.fft.fft(kernel_padded,axis=1)\n",
    "kernel_padded = np.fft.fft(kernel_padded,axis=0)\n",
    "\n",
    "plt.figure()\n",
    "plt.gray()\n",
    "plt.subplot(121)\n",
    "plt.imshow(img_padded.real)\n",
    "plt.subplot(122)\n",
    "plt.imshow(kernel_padded.real)\n",
    "output = img_padded*kernel_padded\n",
    "\n",
    "# ifft\n",
    "\n",
    "output = np.fft.ifft(output,axis=1)\n",
    "output = np.fft.ifft(output,axis=0)\n",
    "for i in range(0,output.shape[0]):\n",
    "     for j in range(0,output.shape[1]):\n",
    "        output[i,j] = output[i,j]*((-1)**(i+j))\n",
    "plt.figure()\n",
    "plt.imshow(output.real)\n",
    "plt.gray()\n",
    "plt.show() \n"
   ]
  },
  {
   "cell_type": "markdown",
   "metadata": {
    "deletable": true,
    "editable": true
   },
   "source": [
    "# Question 3"
   ]
  },
  {
   "cell_type": "code",
   "execution_count": 65,
   "metadata": {
    "collapsed": true,
    "deletable": true,
    "editable": true
   },
   "outputs": [],
   "source": [
    "def cross_correlation(img,kernel):\n",
    "    output = np.zeros_like(img)    \n",
    "    output_img = np.copy(img)\n",
    "    # Add zero padding to the input image\n",
    "    kernel_x = kernel.shape[0]\n",
    "    kernel_y = kernel.shape[1]\n",
    "    image_padded = np.zeros((img.shape[0] + (kernel_x-1) , img.shape[1] + kernel_y-1))   \n",
    "    print(image_padded.shape)\n",
    "    image_padded[kernel_x//2:img.shape[0]+kernel_x//2, kernel_y//2:img.shape[1]+kernel_y//2] = img\n",
    "    #print(image_padded)\n",
    "    count = 0\n",
    "    cp = 0\n",
    "    for x in range(kernel_x//2,img.shape[0]):     \n",
    "        #print(count)\n",
    "        for y in range(kernel_y//2,img.shape[1]):\n",
    "            temp_img = image_padded[x-kernel_x//2:x+kernel_x//2+1,y-kernel_y//2:y+kernel_y//2]\n",
    "                \n",
    "            img_mean= np.mean(temp_img)\n",
    "            #print(temp_img)\n",
    "           # print(img_mean)\n",
    "            temp_img = temp_img - img_mean\n",
    "            kernel_mean = np.mean(kernel)\n",
    "            temp_kernel = kernel - kernel_mean\n",
    "            temp_ans_num = (temp_kernel * temp_img ).sum()\n",
    "            if(temp_ans_num == 'NaN'):\n",
    "                continue\n",
    "            #print(\"AAAAAAAAAAAAAAAAAAAAAAAa \",temp_ans_num)\n",
    "            temp_ans_deno = (((temp_img**2).sum()) * ((temp_kernel**2).sum()))**0.5\n",
    "            if(temp_ans_deno == 'NaN'):\n",
    "                continue\n",
    "            #print(\"temp_ans_deno \",temp_ans_deno)\n",
    "            #print(temp_ans_num / temp_ans_deno)\n",
    "            if(temp_ans_deno != 0):\n",
    "                if(temp_ans_num / temp_ans_deno == 1.0):\n",
    "                    output_img[x-kernel_x//2-kernel_x//2:x+kernel_x//2+1,y-kernel_y//2-kernel_y//2:y+kernel_y//2] = 0\n",
    "                output[x-kernel_x//2,y-kernel_y//2] = temp_ans_num / temp_ans_deno\n",
    "        count+=1\n",
    "    \n",
    "    return output_img"
   ]
  },
  {
   "cell_type": "code",
   "execution_count": 66,
   "metadata": {
    "collapsed": false,
    "deletable": true,
    "editable": true
   },
   "outputs": [
    {
     "name": "stdout",
     "output_type": "stream",
     "text": [
      "(297, 892)\n",
      "(25, 42)\n",
      "(321, 933)\n",
      "[[255 255 255 ..., 255 255 255]\n",
      " [255 255 255 ..., 255 255 255]\n",
      " [255 255 255 ..., 255 255 255]\n",
      " ..., \n",
      " [255 255 255 ..., 255 255 255]\n",
      " [255 255 255 ..., 255 255 255]\n",
      " [255 255 255 ..., 255 255 255]]\n"
     ]
    }
   ],
   "source": [
    "img1 = cv2.imread(\"/media/shubham/New Volume/DAIICT/2nd sem/DIP/assignment4/lab4text.png\",0)\n",
    "img2 = cv2.imread(\"/media/shubham/New Volume/DAIICT/2nd sem/DIP/assignment4/and.png\",0)\n",
    "print(img1.shape)\n",
    "print(img2.shape)\n",
    "c_c_mat = cross_correlation(img1,img2)\n",
    "plt.figure()\n",
    "plt.imshow(c_c_mat)\n",
    "plt.gray()\n",
    "plt.show()\n",
    "print(c_c_mat)\n"
   ]
  },
  {
   "cell_type": "code",
   "execution_count": 29,
   "metadata": {
    "collapsed": false,
    "deletable": true,
    "editable": true
   },
   "outputs": [
    {
     "name": "stdout",
     "output_type": "stream",
     "text": [
      "[[1 2 3 4 5]\n",
      " [4 5 6 9 2]\n",
      " [6 7 1 2 3]\n",
      " [4 4 4 5 6]\n",
      " [2 2 6 7 8]]\n",
      "[[1 2 3]\n",
      " [4 5 6]\n",
      " [6 7 8]]\n",
      "(7, 7)\n",
      "0\n",
      "1\n",
      "2\n",
      "3\n",
      "[[0 0 0 0 0]\n",
      " [0 0 0 0 0]\n",
      " [0 0 0 0 0]\n",
      " [0 0 0 1 0]\n",
      " [0 0 0 0 0]]\n",
      "[[ 0.  0.  0.  0.  0.  0.  0.  0.  0.]\n",
      " [ 0.  0.  0.  0.  0.  0.  0.  0.  0.]\n",
      " [ 0.  0.  1.  2.  3.  4.  5.  0.  0.]\n",
      " [ 0.  0.  4.  5.  6.  9.  2.  0.  0.]\n",
      " [ 0.  0.  6.  7.  1.  2.  3.  0.  0.]\n",
      " [ 0.  0.  4.  4.  4.  5.  6.  0.  0.]\n",
      " [ 0.  0.  2.  2.  6.  7.  8.  0.  0.]\n",
      " [ 0.  0.  0.  0.  0.  0.  0.  0.  0.]\n",
      " [ 0.  0.  0.  0.  0.  0.  0.  0.  0.]]\n",
      "[[ 0.  0.  0.  0.  0.  0.  0.  0.  0.]\n",
      " [ 0.  0.  0.  0.  0.  0.  0.  0.  0.]\n",
      " [ 0.  0.  0.  0.  0.  0.  0.  0.  0.]\n",
      " [ 0.  0.  0.  1.  2.  3.  0.  0.  0.]\n",
      " [ 0.  0.  0.  4.  5.  6.  0.  0.  0.]\n",
      " [ 0.  0.  0.  6.  7.  8.  0.  0.  0.]\n",
      " [ 0.  0.  0.  0.  0.  0.  0.  0.  0.]\n",
      " [ 0.  0.  0.  0.  0.  0.  0.  0.  0.]\n",
      " [ 0.  0.  0.  0.  0.  0.  0.  0.  0.]]\n",
      "(9, 9) (9, 9)\n"
     ]
    }
   ],
   "source": [
    "a = np.array([[1,2,3,4,5],[4,5,6,9,2],[6,7,1,2,3],[4,4,4,5,6],[2,2,6,7,8]])\n",
    "b= np.array([[1,2,3],[4,5,6],[6,7,8]])\n",
    "print(a)\n",
    "print(b)\n",
    "ans = cross_correlation(a,b)\n",
    "print(ans)\n",
    "a_temp = np.zeros((a.shape[0]+b.shape[0]+1,a.shape[1]+b.shape[1]+1))\n",
    "#print(\"a_tempo shape \",a_temp.shape)\n",
    "p,q = b.shape\n",
    "c = np.zeros_like(a_temp)\n",
    "a_temp[p-1:-p+1,q-1:-q+1] = a\n",
    "print(a_temp)\n",
    "m,n = c.shape\n",
    "m = m//2\n",
    "n = n//2\n",
    "#print(m,n)\n",
    "c[m-1:-m+1,n-1:-n+1]= b\n",
    "print(c)\n",
    "print(a_temp.shape,c.shape)"
   ]
  },
  {
   "cell_type": "code",
   "execution_count": null,
   "metadata": {
    "collapsed": true,
    "deletable": true,
    "editable": true
   },
   "outputs": [],
   "source": [
    "\n"
   ]
  }
 ],
 "metadata": {
  "kernelspec": {
   "display_name": "Python 3",
   "language": "python",
   "name": "python3"
  },
  "language_info": {
   "codemirror_mode": {
    "name": "ipython",
    "version": 3
   },
   "file_extension": ".py",
   "mimetype": "text/x-python",
   "name": "python",
   "nbconvert_exporter": "python",
   "pygments_lexer": "ipython3",
   "version": "3.6.4"
  }
 },
 "nbformat": 4,
 "nbformat_minor": 2
}
