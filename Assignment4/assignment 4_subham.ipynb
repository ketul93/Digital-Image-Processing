{
 "cells": [
  {
   "cell_type": "markdown",
   "metadata": {
    "deletable": true,
    "editable": true
   },
   "source": [
    "#  Spatial Filtering"
   ]
  },
  {
   "cell_type": "markdown",
   "metadata": {
    "deletable": true,
    "editable": true
   },
   "source": [
    "# Question 1"
   ]
  },
  {
   "cell_type": "code",
   "execution_count": 1,
   "metadata": {
    "collapsed": false,
    "deletable": true,
    "editable": true
   },
   "outputs": [
    {
     "name": "stdout",
     "output_type": "stream",
     "text": [
      "Using matplotlib backend: MacOSX\n"
     ]
    }
   ],
   "source": [
    "%matplotlib\n",
    "import numpy as np\n",
    "import matplotlib.pyplot as plt\n",
    "from scipy import misc\n",
    "from numpy.linalg import inv\n",
    "from PIL import Image, ImageDraw\n",
    "import matplotlib.patches as patches"
   ]
  },
  {
   "cell_type": "code",
   "execution_count": 2,
   "metadata": {
    "collapsed": true,
    "deletable": true,
    "editable": true
   },
   "outputs": [],
   "source": [
    "def convolution(img,kernel=0,kernel_type='none'):\n",
    "    output = np.zeros_like(img)           \n",
    "    # Add zero padding to the input image\n",
    "    kernel_x = kernel.shape[0]\n",
    "    kernel_y = kernel.shape[1]\n",
    "    image_padded = np.zeros((img.shape[0] + (kernel_x-1) , img.shape[1] + kernel_y-1))   \n",
    "    image_padded[1:-1, 1:-1] = img\n",
    "    #print(image_padded)\n",
    "    if kernel_type == 'median':\n",
    "        for x in range(kernel_x//2,img.shape[0]+kernel_x//2):     \n",
    "            for y in range(kernel_y//2,img.shape[1]+kernel_y//2):\n",
    "               # print(x-kernel_x//2,y-kernel_y//2)\n",
    "                # element wise multiplication of the image pixels and kernel\n",
    "                array = image_padded[x-kernel_x//2:x+kernel_x//2+1,y-kernel_y//2:y+kernel_y//2+1]\n",
    "                output[x-kernel_x//2,y-kernel_y//2] = np.median(array)\n",
    "    else:        \n",
    "        for x in range(kernel_x//2,img.shape[0]+kernel_x//2):     \n",
    "            for y in range(kernel_y//2,img.shape[1]+kernel_y//2):\n",
    "               # print(x-kernel_x//2,y-kernel_y//2)\n",
    "                # element wise multiplication of the image pixels and kernel\n",
    "                output[x-kernel_x//2,y-kernel_y//2]=int(((kernel*image_padded[x-kernel_x//2:x+kernel_x//2+1,y-kernel_y//2:y+kernel_y//2+1]).sum()))        \n",
    "    return output"
   ]
  },
  {
   "cell_type": "code",
   "execution_count": 3,
   "metadata": {
    "collapsed": true,
    "deletable": true,
    "editable": true
   },
   "outputs": [],
   "source": [
    "def imnoise(img,noise_type,amt=0):\n",
    "    if(noise_type == 'gaussian'):\n",
    "        row,col = img.shape\n",
    "        mean = 5\n",
    "        var = 15\n",
    "        sigma = var**0.5\n",
    "        gauss_noise = np.random.normal(mean,sigma,(row,col))\n",
    "        gauss_noise = gauss_noise.reshape(row,col)\n",
    "        noisy_img = img + gauss_noise\n",
    "        return noisy_img\n",
    "    elif noise_type == \"s&p\":\n",
    "        row,col= img.shape\n",
    "        s_vs_p = 0.5\n",
    "        amount = amt\n",
    "        out = np.copy(img)\n",
    "      # Salt mode\n",
    "        num_salt = np.ceil((amount/2) * img.size * s_vs_p)\n",
    "        coords = [np.random.randint(0, i - 1, int(num_salt))\n",
    "                  for i in img.shape]\n",
    "        out[coords] = 255\n",
    "\n",
    "      # Pepper mode\n",
    "        num_pepper = np.ceil((amount/2)* img.size * (1. - s_vs_p))\n",
    "        coords = [np.random.randint(0, i - 1, int(num_pepper))\n",
    "              for i in img.shape]\n",
    "        out[coords] = 0\n",
    "        return out\n",
    "    else:\n",
    "        return"
   ]
  },
  {
   "cell_type": "code",
   "execution_count": 4,
   "metadata": {
    "collapsed": false,
    "deletable": true,
    "editable": true
   },
   "outputs": [],
   "source": [
    "img = misc.imread('lena.jpg',mode=\"L\")\n",
    "kernel = np.array([[0,-1,0],[-1,5,-1],[0,-1,0]])\n",
    "noise_remove_kernel = np.array([[1,1,1],[1,1,1],[1,1,1]])*(1/9) #mean filter\n",
    "given_kernel = np.reshape(kernel,(3,3))\n",
    "kernel = np.zeros(given_kernel.shape)\n",
    "\n",
    "#flipping kernel\n",
    "for i in range(0,kernel.shape[0]):\n",
    "    for j in range(0,kernel.shape[1]):\n",
    "        kernel[i,j] = given_kernel[-i+(given_kernel.shape[0]-1),-j+(given_kernel.shape[1]-1)]\n",
    "# image after adding noise\n",
    "density = [0.05,0.1,0.2 ]\n",
    "for dens in density:\n",
    "    noisy_img  = imnoise(img,'s&p',dens)\n",
    "    output_noisy = convolution(noisy_img,kernel,'median')\n",
    "    #noisy image\n",
    "    plt.figure()\n",
    "    plt.subplot(121)\n",
    "    plt.imshow(noisy_img)\n",
    "    plt.gray()\n",
    "    plt.show()\n",
    "\n",
    "    #output of noisy image convolution\n",
    "    plt.subplot(122)\n",
    "    plt.imshow(output_noisy)\n",
    "    plt.gray()\n",
    "    plt.show()"
   ]
  },
  {
   "cell_type": "markdown",
   "metadata": {
    "deletable": true,
    "editable": true
   },
   "source": [
    "# Question 2"
   ]
  },
  {
   "cell_type": "code",
   "execution_count": 5,
   "metadata": {
    "collapsed": false,
    "deletable": true,
    "editable": true
   },
   "outputs": [
    {
     "name": "stdout",
     "output_type": "stream",
     "text": [
      "(202, 202) (202, 202)\n",
      "101 101\n"
     ]
    }
   ],
   "source": [
    "img = misc.imread('lena.jpg',mode=\"L\")\n",
    "img1 = np.copy(img)\n",
    "plt.figure()\n",
    "plt.gray()\n",
    "plt.imshow(img1)\n",
    "noise_remove_kernel = np.array([[1,2,1],[0,0,0],[-1,-2,-1]]) # sobel filter\n",
    "#noise_remove_kernel = np.array([[1,1,1],[1,1,1],[1,1,1]])*(1/9) #mean filter\n",
    "#noise_remove_kernel = np.array([[0,-1,0],[-1,4,-1],[0,-1,0]]) #laplacian filter\n",
    "#noise_remove_kernel = np.array([[-1,2,1],[0,1,2],[-1,1,0]])\n",
    "\n",
    "rows,cols = img.shape\n",
    "r,c = noise_remove_kernel.shape\n",
    "\n",
    "#shifting low frequencies to middle \n",
    "for i in range(0,rows):\n",
    "     for j in range(0,cols):\n",
    "        img1[i,j] = img1[i,j]*((-1)**(i+j))\n",
    "# -------------------------------------------------------------------------------------        \n",
    "#padding of image and kernel\n",
    "\n",
    "img_padded = np.zeros((rows+r-1,cols+c-1))\n",
    "#print(\"a_tempo shape \",a_temp.shape)\n",
    "kernel_padded = np.zeros_like(img_padded)\n",
    "print(img_padded.shape,kernel_padded.shape)\n",
    "\n",
    "img_padded[1:-1,1:-1] = img1\n",
    "m,n = kernel_padded.shape\n",
    "m = m//2\n",
    "n = n//2\n",
    "print(m,n)\n",
    "#kernel_padded[m-1:m-1+r,n-1:n-1+c]= noise_remove_kernel\n",
    "kernel_padded[0:r,0:c] = noise_remove_kernel\n",
    "# for i in range(0,kernel_padded.shape[0]):\n",
    "#      for j in range(0,kernel_padded.shape[1]):\n",
    "#         kernel_padded[i,j] = kernel_padded[i,j]*((-1)**(i+j))\n",
    "#kernel_padded[0:r,0:c] = noise_remove_kernel\n",
    "\n",
    "#--------------------------------------------------------------------------\n",
    "\n",
    "\n",
    "\n",
    "# 2D FFT of  image\n",
    "img_padded = np.fft.fft(img_padded,axis=1)\n",
    "img_padded = np.fft.fft(img_padded,axis=0)\n",
    "\n",
    "# 2D fft of kernel\n",
    "\n",
    "kernel_padded= np.fft.fft(kernel_padded,axis=1)\n",
    "kernel_padded = np.fft.fft(kernel_padded,axis=0)\n",
    "\n",
    "plt.figure()\n",
    "plt.gray()\n",
    "plt.subplot(121)\n",
    "plt.imshow(img_padded.real)\n",
    "plt.subplot(122)\n",
    "plt.imshow(kernel_padded.real)\n",
    "output = img_padded*kernel_padded\n",
    "\n",
    "# ifft\n",
    "\n",
    "output = np.fft.ifft(output,axis=1)\n",
    "output = np.fft.ifft(output,axis=0)\n",
    "for i in range(0,output.shape[0]):\n",
    "     for j in range(0,output.shape[1]):\n",
    "        output[i,j] = output[i,j]*((-1)**(i+j))\n",
    "plt.figure()\n",
    "plt.imshow(output.real)\n",
    "plt.gray()\n",
    "plt.show() \n"
   ]
  },
  {
   "cell_type": "markdown",
   "metadata": {
    "deletable": true,
    "editable": true
   },
   "source": [
    "# Question 3"
   ]
  },
  {
   "cell_type": "code",
   "execution_count": 6,
   "metadata": {
    "collapsed": true,
    "deletable": true,
    "editable": true
   },
   "outputs": [],
   "source": [
    "def cross_cor_n(img,mask):\n",
    "    M = mask.shape[0]\n",
    "    N = mask.shape[1]\n",
    "    offset_row = int(M/2)\n",
    "    offset_col = int(N/2)\n",
    "    new_img = np.zeros(shape=(img.shape[0]+M,img.shape[1] + N),dtype=np.integer)\n",
    "    new_img[M-1 : -1,N-1 : -1] = img\n",
    "    new_conv_img = np.zeros(shape=(img.shape[0],img.shape[1] ),dtype=np.float)\n",
    "    mask_mean = np.mean(mask)\n",
    "    mask_norm = (np.sum(np.square(mask - mask_mean)))**0.5\n",
    "    for i in range(new_conv_img.shape[0]):\n",
    "        for j in range(new_conv_img.shape[1]):\n",
    "\n",
    "            img_mean = np.mean(new_img[i:i+M , j:j+N])\n",
    "            img_norm = (np.sum(np.square(new_img[i:i+M , j:j+N] - img_mean)))**0.5\n",
    "            #Variance = 0 condition to be handled\n",
    "            if(img_norm != 0):\n",
    "                new_conv_img[i,j] = ((np.sum((mask - mask_mean) * (new_img[i:i+M , j:j+N] - img_mean)))/(mask_norm*img_norm))\n",
    "            else:\n",
    "                new_conv_img[i,j] = 0\n",
    "                \n",
    "    return (new_conv_img)"
   ]
  },
  {
   "cell_type": "code",
   "execution_count": 7,
   "metadata": {
    "collapsed": false,
    "deletable": true,
    "editable": true
   },
   "outputs": [
    {
     "name": "stdout",
     "output_type": "stream",
     "text": [
      "6\n"
     ]
    }
   ],
   "source": [
    "img1 = misc.imread('lab4text.png',mode=\"L\")\n",
    "img2 = misc.imread('and.png',mode=\"L\")\n",
    "result = cross_cor_n(img1,img2)\n",
    "max1 = np.max(result)\n",
    "ma_i = []\n",
    "for i in range(img2.shape[0],result.shape[0]-1):\n",
    "    for j in range(img2.shape[1],result.shape[1]-1):\n",
    "        if(result[i,j] >= max1*0.9):\n",
    "            ma_i.append((i,j))\n",
    "print(len(ma_i))\n",
    "#fig1 = plt.figure(figsize=(20,20))\n",
    "im = Image.open('lab4text.png')\n",
    "draw = ImageDraw.Draw(im)\n",
    "for i in range(int(len(ma_i))):\n",
    "    #rect = (patches.Rectangle((ma_i[i][0],ma_i[i][1]+img2.shape[1]),img2.shape[1],img2.shape[0],linewidth=1,edgecolor='r',facecolor='none'))\n",
    "    draw.rectangle([ma_i[i][1]-img2.shape[1], ma_i[i][0]-img2.shape[0],ma_i[i][1] ,ma_i[i][0] ], outline=(200, 0, 100, 255))\n",
    "im.show()"
   ]
  }
 ],
 "metadata": {
  "kernelspec": {
   "display_name": "Python 3",
   "language": "python",
   "name": "python3"
  },
  "language_info": {
   "codemirror_mode": {
    "name": "ipython",
    "version": 3
   },
   "file_extension": ".py",
   "mimetype": "text/x-python",
   "name": "python",
   "nbconvert_exporter": "python",
   "pygments_lexer": "ipython3",
   "version": "3.6.4"
  }
 },
 "nbformat": 4,
 "nbformat_minor": 2
}
