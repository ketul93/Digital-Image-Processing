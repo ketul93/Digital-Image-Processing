{
 "cells": [
  {
   "cell_type": "code",
   "execution_count": 2,
   "metadata": {
    "collapsed": false,
    "deletable": true,
    "editable": true
   },
   "outputs": [],
   "source": [
    "#Importing necessary Modules\n",
    "# Author : Ketul Shah & Subham Malaviya\n",
    "import matplotlib\n",
    "matplotlib.use('TkAgg')\n",
    "import matplotlib.pyplot as plt\n",
    "import numpy as np\n",
    "import matplotlib.image as mpimg\n",
    "from numpy.linalg import inv\n",
    "from numpy.linalg import pinv"
   ]
  },
  {
   "cell_type": "code",
   "execution_count": 16,
   "metadata": {
    "collapsed": false,
    "deletable": true,
    "editable": true
   },
   "outputs": [
    {
     "name": "stdout",
     "output_type": "stream",
     "text": [
      "Please click 4 points look similar in two images (from Image1)\n"
     ]
    },
    {
     "name": "stderr",
     "output_type": "stream",
     "text": [
      "/usr/local/lib/python3.6/site-packages/matplotlib/backend_bases.py:2453: MatplotlibDeprecationWarning: Using default event loop until function specific to this GUI is implemented\n",
      "  warnings.warn(str, mplDeprecation)\n"
     ]
    },
    {
     "name": "stdout",
     "output_type": "stream",
     "text": [
      "Now Please click 4 point looks similar in two images (from Image2)\n",
      "[[  1.10915694e+00   7.31711608e-01  -6.83533812e-04  -1.57541620e+02]\n",
      " [ -3.50978459e-01   1.07103731e+00  -3.97172609e-04   1.23661848e+02]]\n"
     ]
    }
   ],
   "source": [
    "no_points = 8\n",
    "img1 = plt.imread('img1.jpg') # Reading image1 from source\n",
    "img2 = plt.imread('img2.jpg') # Reading image2 from source\n",
    "plt.figure(figsize=(10,10))\n",
    "plt.subplot(121)\n",
    "plt.title('Image 1')\n",
    "plt.gray()\n",
    "imgplot1 = plt.imshow(img1)\n",
    "plt.subplot(122)\n",
    "plt.title('Image 2')\n",
    "imgplot2 = plt.imshow(img2)\n",
    "print(\"Please click 4 points look similar in two images (from Image1)\")\n",
    "x1 = np.zeros(shape=(int(no_points/2),2))\n",
    "x = plt.ginput(int(no_points/2))\n",
    "for i in range(int(no_points/2)):\n",
    "    x1[i][0] = x[i][0]\n",
    "    x1[i][1] = x[i][1]\n",
    "x2 = np.zeros(shape=(int(no_points/2),2))\n",
    "print(\"Now Please click 4 point looks similar in two images (from Image2)\")\n",
    "x = plt.ginput(int(no_points/2))\n",
    "for i in range(int(no_points/2)):\n",
    "    x2[i][0] = x[i][0]\n",
    "    x2[i][1] = x[i][1]\n",
    "#print(\"clicked\", x)\n",
    "matX = np.zeros(shape=(int(no_points/2),int(no_points/2)))\n",
    "for i in range(int(no_points/2)):\n",
    "    matX[0][i] = x1[i][0]\n",
    "for i in range(int(no_points/2)):\n",
    "    matX[1][i] = x1[i][1]\n",
    "for i in range(int(no_points/2)):\n",
    "    matX[2][i] = x1[i][1] * x1[i][0]\n",
    "for i in range(int(no_points/2)):\n",
    "    matX[3][i] = 1\n",
    "#print(matX)\n",
    "matX_inv = pinv(matX)\n",
    "coeff_mat = np.matmul(np.transpose(x2),matX_inv)\n",
    "#print(x1)\n",
    "#print(matX_inv.shape)\n",
    "print(coeff_mat)\n",
    "plt.close()\n",
    "#plt.show()"
   ]
  },
  {
   "cell_type": "code",
   "execution_count": 20,
   "metadata": {
    "collapsed": false,
    "deletable": true,
    "editable": true
   },
   "outputs": [
    {
     "name": "stdout",
     "output_type": "stream",
     "text": [
      "[[  1.10915694e+00   7.31711608e-01  -6.83533812e-04  -1.57541620e+02]\n",
      " [ -3.50978459e-01   1.07103731e+00  -3.97172609e-04   1.23661848e+02]]\n"
     ]
    },
    {
     "ename": "IndexError",
     "evalue": "index 778 is out of bounds for axis 0 with size 778",
     "output_type": "error",
     "traceback": [
      "\u001b[0;31m---------------------------------------------------------------------------\u001b[0m",
      "\u001b[0;31mIndexError\u001b[0m                                Traceback (most recent call last)",
      "\u001b[0;32m<ipython-input-20-9fb762781fb8>\u001b[0m in \u001b[0;36m<module>\u001b[0;34m()\u001b[0m\n\u001b[1;32m     10\u001b[0m         \u001b[0;32mif\u001b[0m\u001b[0;34m(\u001b[0m\u001b[0mx1\u001b[0m \u001b[0;34m<=\u001b[0m \u001b[0mM\u001b[0m  \u001b[0;32mand\u001b[0m \u001b[0my1\u001b[0m \u001b[0;34m<=\u001b[0m\u001b[0mN\u001b[0m \u001b[0;32mand\u001b[0m \u001b[0mx1\u001b[0m \u001b[0;34m>=\u001b[0m \u001b[0;36m0\u001b[0m \u001b[0;32mand\u001b[0m \u001b[0my1\u001b[0m \u001b[0;34m>=\u001b[0m\u001b[0;36m0\u001b[0m\u001b[0;34m)\u001b[0m\u001b[0;34m:\u001b[0m\u001b[0;34m\u001b[0m\u001b[0m\n\u001b[1;32m     11\u001b[0m             \u001b[0mcount\u001b[0m \u001b[0;34m+=\u001b[0m \u001b[0;36m1\u001b[0m\u001b[0;34m\u001b[0m\u001b[0m\n\u001b[0;32m---> 12\u001b[0;31m             \u001b[0mimg3\u001b[0m\u001b[0;34m[\u001b[0m\u001b[0mx1\u001b[0m\u001b[0;34m]\u001b[0m\u001b[0;34m[\u001b[0m\u001b[0my1\u001b[0m\u001b[0;34m]\u001b[0m \u001b[0;34m=\u001b[0m \u001b[0mimg1\u001b[0m\u001b[0;34m[\u001b[0m\u001b[0mi\u001b[0m\u001b[0;34m]\u001b[0m\u001b[0;34m[\u001b[0m\u001b[0mj\u001b[0m\u001b[0;34m]\u001b[0m\u001b[0;34m\u001b[0m\u001b[0m\n\u001b[0m\u001b[1;32m     13\u001b[0m \u001b[0mplt\u001b[0m\u001b[0;34m.\u001b[0m\u001b[0mimshow\u001b[0m\u001b[0;34m(\u001b[0m\u001b[0mimg3\u001b[0m\u001b[0;34m)\u001b[0m\u001b[0;34m\u001b[0m\u001b[0m\n\u001b[1;32m     14\u001b[0m \u001b[0mprint\u001b[0m\u001b[0;34m(\u001b[0m\u001b[0mcount\u001b[0m\u001b[0;34m)\u001b[0m\u001b[0;34m\u001b[0m\u001b[0m\n",
      "\u001b[0;31mIndexError\u001b[0m: index 778 is out of bounds for axis 0 with size 778"
     ]
    }
   ],
   "source": [
    "M = img1.shape[0] \n",
    "N = img1.shape[1] \n",
    "img3 = \n",
    "count = 0\n",
    "print(coeff_mat)\n",
    "for i in range(int(M)):\n",
    "    for j in range(int(N)):\n",
    "        x1 = int(coeff_mat[0][0]*i + coeff_mat[0][1]*j + coeff_mat[0][2]*i*j + coeff_mat[0][3]) \n",
    "        y1 = int(coeff_mat[1][0]*i + coeff_mat[1][1]*j + coeff_mat[1][2]*i*j + coeff_mat[1][3])\n",
    "        if(x1 <= M  and y1 <=N and x1 >= 0 and y1 >=0):\n",
    "            count += 1\n",
    "            img3[x1][y1] = img1[i][j]\n",
    "plt.imshow(img3)\n",
    "print(count)\n",
    "plt.show()"
   ]
  }
 ],
 "metadata": {
  "kernelspec": {
   "display_name": "Python 3",
   "language": "python",
   "name": "python3"
  },
  "language_info": {
   "codemirror_mode": {
    "name": "ipython",
    "version": 3
   },
   "file_extension": ".py",
   "mimetype": "text/x-python",
   "name": "python",
   "nbconvert_exporter": "python",
   "pygments_lexer": "ipython3",
   "version": "3.6.4"
  }
 },
 "nbformat": 4,
 "nbformat_minor": 2
}
