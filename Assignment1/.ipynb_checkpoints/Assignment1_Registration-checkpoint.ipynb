{
 "cells": [
  {
   "cell_type": "code",
   "execution_count": 2,
   "metadata": {
    "collapsed": false,
    "deletable": true,
    "editable": true
   },
   "outputs": [],
   "source": [
    "#Importing necessary Modules\n",
    "# Author : Ketul Shah & Subham Malaviya\n",
    "import matplotlib\n",
    "matplotlib.use('TkAgg')\n",
    "import matplotlib.pyplot as plt\n",
    "import numpy as np\n",
    "import matplotlib.image as mpimg\n",
    "from numpy.linalg import inv\n",
    "from numpy.linalg import pinv"
   ]
  },
  {
   "cell_type": "code",
   "execution_count": 3,
   "metadata": {
    "collapsed": false,
    "deletable": true,
    "editable": true
   },
   "outputs": [
    {
     "name": "stdout",
     "output_type": "stream",
     "text": [
      "Please click 4 points look similar in two images (from Image1)\n"
     ]
    },
    {
     "name": "stderr",
     "output_type": "stream",
     "text": [
      "/usr/local/lib/python3.6/site-packages/matplotlib/backend_bases.py:2453: MatplotlibDeprecationWarning: Using default event loop until function specific to this GUI is implemented\n",
      "  warnings.warn(str, mplDeprecation)\n"
     ]
    },
    {
     "name": "stdout",
     "output_type": "stream",
     "text": [
      "Now Please click 4 point looks similar in two images (from Image2)\n",
      "(4, 4)\n",
      "[[ 71142.25249701   7940.57984996]\n",
      " [ -9050.40142689  -1008.86024132]\n",
      " [-54024.82187321  -6029.14807099]\n",
      " [ -7342.53358401   -820.47257765]]\n"
     ]
    }
   ],
   "source": [
    "no_points = 8\n",
    "img1 = plt.imread('img1.jpg') # Reading image1 from source\n",
    "img2 = plt.imread('img2.jpg') # Reading image2 from source\n",
    "plt.figure(figsize=(10,10))\n",
    "plt.subplot(121)\n",
    "plt.title('Image 1')\n",
    "plt.gray()\n",
    "imgplot1 = plt.imshow(img1)\n",
    "plt.subplot(122)\n",
    "plt.title('Image 2')\n",
    "imgplot2 = plt.imshow(img2)\n",
    "print(\"Please click 4 points look similar in two images (from Image1)\")\n",
    "x1 = np.zeros(shape=(int(no_points/2),2))\n",
    "x = plt.ginput(int(no_points/2))\n",
    "for i in range(int(no_points/2)):\n",
    "    x1[i][0] = x[i][0]\n",
    "    x1[i][1] = x[i][1]\n",
    "x2 = np.zeros(shape=(int(no_points/2),2))\n",
    "print(\"Now Please click 4 point looks similar in two images (from Image2)\")\n",
    "x = plt.ginput(int(no_points/2))\n",
    "for i in range(int(no_points/2)):\n",
    "    x2[i][0] = x[i][0]\n",
    "    x2[i][1] = x[i][1]\n",
    "#print(\"clicked\", x)\n",
    "matX = np.zeros(shape=(int(no_points/2),int(no_points/2)))\n",
    "for i in range(int(no_points/2)):\n",
    "    matX[0][i] = x1[i][0]\n",
    "for i in range(int(no_points/2)):\n",
    "    matX[1][i] = x1[i][1]\n",
    "for i in range(int(no_points/2)):\n",
    "    matX[2][i] = x1[i][1] * x1[i][0]\n",
    "for i in range(int(no_points/2)):\n",
    "    matX[3][i] = 1\n",
    "matX_inv = pinv(matX)\n",
    "coeff_mat = np.dot(matX_inv,x2)\n",
    "#print(x1)\n",
    "print(matX_inv.shape)\n",
    "print(coeff_mat)\n",
    "plt.close()\n",
    "#plt.show()"
   ]
  },
  {
   "cell_type": "code",
   "execution_count": null,
   "metadata": {
    "collapsed": false
   },
   "outputs": [],
   "source": [
    "M = img2.shape[0]\n",
    "N = img2.shape[1]\n",
    "img3 = np.zeros(shape=(M,N))\n",
    "print(coeff_mat.shape)\n",
    "count = 0\n",
    "for i in range(M):\n",
    "    for j in range(N):\n",
    "        x1 = int(coeff_mat[0][0]*i+coeff_mat[1][0]*j+coeff_mat[2][0]*i*j+coeff_mat[3][0])\n",
    "        y1 = int(coeff_mat[0][1]*i+coeff_mat[1][1]*j+coeff_mat[2][1]*i*j+coeff_mat[3][1])\n",
    "        if(x1 <= M and y1 <=N and x1 >= 0 and y1 >=0):\n",
    "            count += 1\n",
    "            img3[x1][y1] = img2[i][j]\n",
    "plt.imshow(img3)\n",
    "print(count)\n",
    "plt.show()"
   ]
  }
 ],
 "metadata": {
  "kernelspec": {
   "display_name": "Python 3",
   "language": "python",
   "name": "python3"
  },
  "language_info": {
   "codemirror_mode": {
    "name": "ipython",
    "version": 3
   },
   "file_extension": ".py",
   "mimetype": "text/x-python",
   "name": "python",
   "nbconvert_exporter": "python",
   "pygments_lexer": "ipython3",
   "version": "3.6.4"
  }
 },
 "nbformat": 4,
 "nbformat_minor": 2
}
