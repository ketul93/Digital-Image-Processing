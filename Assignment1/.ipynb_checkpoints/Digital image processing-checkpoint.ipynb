{
 "cells": [
  {
   "cell_type": "markdown",
   "metadata": {
    "deletable": true,
    "editable": true
   },
   "source": [
    "# Assignment 1"
   ]
  },
  {
   "cell_type": "markdown",
   "metadata": {
    "deletable": true,
    "editable": true
   },
   "source": [
    "# 1 IMAGE RESIZE"
   ]
  },
  {
   "cell_type": "code",
   "execution_count": 1,
   "metadata": {
    "collapsed": false,
    "deletable": true,
    "editable": true
   },
   "outputs": [
    {
     "name": "stdout",
     "output_type": "stream",
     "text": [
      "Using matplotlib backend: Qt5Agg\n"
     ]
    }
   ],
   "source": [
    "import numpy as np\n",
    "import matplotlib\n",
    "%matplotlib\n",
    "import matplotlib.pyplot as plt\n",
    "import math\n",
    "import cv2"
   ]
  },
  {
   "cell_type": "code",
   "execution_count": 3,
   "metadata": {
    "collapsed": true,
    "deletable": true,
    "editable": true
   },
   "outputs": [],
   "source": [
    "def calculation(img,x,y):\n",
    "    coefficient = np.zeros((4,1));\n",
    "    a_mat = np.array([[x,y,x*y,1],[x+1,y,(x+1)*y,1],[x,y+1,x*(y+1),1],[x+1,y+1,(x+1)*(y+1),1]]);\n",
    "    b_mat = np.array([[img[x,y]],[img[x+1,y]],[img[x,y+1]],[img[x+1,y+1]]]);\n",
    "    coefficient = np.matmul(np.linalg.inv(a_mat),b_mat);\n",
    "    return coefficient;"
   ]
  },
  {
   "cell_type": "code",
   "execution_count": 4,
   "metadata": {
    "collapsed": true,
    "deletable": true,
    "editable": true
   },
   "outputs": [],
   "source": [
    "def bilinear_inp(img,R,C):\n",
    "    new_img = np.zeros((R,C),dtype=np.uint8);\n",
    "    scale_r = img.shape[0]/R;\n",
    "    scale_c = img.shape[1]/C;\n",
    "    for rows in range(0,R-2):\n",
    "        for cols in range(0,C-2):\n",
    "            if((rows*scale_r - int(rows*scale_r)) == 0.0 and (cols*scale_c - int(cols*scale_c))==0.0):\n",
    "                new_img[rows,cols] = img[rows,cols];\n",
    "            else:\n",
    "                new_x = rows * scale_r;\n",
    "                new_y = cols * scale_c\n",
    "                scalled_r = math.floor(new_x);\n",
    "                scalled_c = math.floor(new_y);\n",
    "                coeff = calculation(img,scalled_r,scalled_c);\n",
    "                new_img[rows,cols] = math.floor((coeff[0]*new_x) + (coeff[1]*new_y) + (coeff[2]*new_x*new_y) + coeff[3]);\n",
    "    return new_img;"
   ]
  },
  {
   "cell_type": "code",
   "execution_count": 5,
   "metadata": {
    "collapsed": false,
    "deletable": true,
    "editable": true
   },
   "outputs": [
    {
     "name": "stdout",
     "output_type": "stream",
     "text": [
      "(437, 778)\n",
      "enter dimensions of the new image\n"
     ]
    },
    {
     "ename": "KeyboardInterrupt",
     "evalue": "",
     "output_type": "error",
     "traceback": [
      "\u001b[0;31m---------------------------------------------------------------------------\u001b[0m",
      "\u001b[0;31mKeyboardInterrupt\u001b[0m                         Traceback (most recent call last)",
      "\u001b[0;32m~/anaconda3/lib/python3.6/site-packages/ipykernel/kernelbase.py\u001b[0m in \u001b[0;36m_input_request\u001b[0;34m(self, prompt, ident, parent, password)\u001b[0m\n\u001b[1;32m    729\u001b[0m             \u001b[0;32mtry\u001b[0m\u001b[0;34m:\u001b[0m\u001b[0;34m\u001b[0m\u001b[0m\n\u001b[0;32m--> 730\u001b[0;31m                 \u001b[0mident\u001b[0m\u001b[0;34m,\u001b[0m \u001b[0mreply\u001b[0m \u001b[0;34m=\u001b[0m \u001b[0mself\u001b[0m\u001b[0;34m.\u001b[0m\u001b[0msession\u001b[0m\u001b[0;34m.\u001b[0m\u001b[0mrecv\u001b[0m\u001b[0;34m(\u001b[0m\u001b[0mself\u001b[0m\u001b[0;34m.\u001b[0m\u001b[0mstdin_socket\u001b[0m\u001b[0;34m,\u001b[0m \u001b[0;36m0\u001b[0m\u001b[0;34m)\u001b[0m\u001b[0;34m\u001b[0m\u001b[0m\n\u001b[0m\u001b[1;32m    731\u001b[0m             \u001b[0;32mexcept\u001b[0m \u001b[0mException\u001b[0m\u001b[0;34m:\u001b[0m\u001b[0;34m\u001b[0m\u001b[0m\n",
      "\u001b[0;32m~/anaconda3/lib/python3.6/site-packages/jupyter_client/session.py\u001b[0m in \u001b[0;36mrecv\u001b[0;34m(self, socket, mode, content, copy)\u001b[0m\n\u001b[1;32m    795\u001b[0m         \u001b[0;32mtry\u001b[0m\u001b[0;34m:\u001b[0m\u001b[0;34m\u001b[0m\u001b[0m\n\u001b[0;32m--> 796\u001b[0;31m             \u001b[0mmsg_list\u001b[0m \u001b[0;34m=\u001b[0m \u001b[0msocket\u001b[0m\u001b[0;34m.\u001b[0m\u001b[0mrecv_multipart\u001b[0m\u001b[0;34m(\u001b[0m\u001b[0mmode\u001b[0m\u001b[0;34m,\u001b[0m \u001b[0mcopy\u001b[0m\u001b[0;34m=\u001b[0m\u001b[0mcopy\u001b[0m\u001b[0;34m)\u001b[0m\u001b[0;34m\u001b[0m\u001b[0m\n\u001b[0m\u001b[1;32m    797\u001b[0m         \u001b[0;32mexcept\u001b[0m \u001b[0mzmq\u001b[0m\u001b[0;34m.\u001b[0m\u001b[0mZMQError\u001b[0m \u001b[0;32mas\u001b[0m \u001b[0me\u001b[0m\u001b[0;34m:\u001b[0m\u001b[0;34m\u001b[0m\u001b[0m\n",
      "\u001b[0;32m~/anaconda3/lib/python3.6/site-packages/zmq/sugar/socket.py\u001b[0m in \u001b[0;36mrecv_multipart\u001b[0;34m(self, flags, copy, track)\u001b[0m\n\u001b[1;32m    394\u001b[0m         \"\"\"\n\u001b[0;32m--> 395\u001b[0;31m         \u001b[0mparts\u001b[0m \u001b[0;34m=\u001b[0m \u001b[0;34m[\u001b[0m\u001b[0mself\u001b[0m\u001b[0;34m.\u001b[0m\u001b[0mrecv\u001b[0m\u001b[0;34m(\u001b[0m\u001b[0mflags\u001b[0m\u001b[0;34m,\u001b[0m \u001b[0mcopy\u001b[0m\u001b[0;34m=\u001b[0m\u001b[0mcopy\u001b[0m\u001b[0;34m,\u001b[0m \u001b[0mtrack\u001b[0m\u001b[0;34m=\u001b[0m\u001b[0mtrack\u001b[0m\u001b[0;34m)\u001b[0m\u001b[0;34m]\u001b[0m\u001b[0;34m\u001b[0m\u001b[0m\n\u001b[0m\u001b[1;32m    396\u001b[0m         \u001b[0;31m# have first part already, only loop while more to receive\u001b[0m\u001b[0;34m\u001b[0m\u001b[0;34m\u001b[0m\u001b[0m\n",
      "\u001b[0;32mzmq/backend/cython/socket.pyx\u001b[0m in \u001b[0;36mzmq.backend.cython.socket.Socket.recv (zmq/backend/cython/socket.c:7683)\u001b[0;34m()\u001b[0m\n",
      "\u001b[0;32mzmq/backend/cython/socket.pyx\u001b[0m in \u001b[0;36mzmq.backend.cython.socket.Socket.recv (zmq/backend/cython/socket.c:7460)\u001b[0;34m()\u001b[0m\n",
      "\u001b[0;32mzmq/backend/cython/socket.pyx\u001b[0m in \u001b[0;36mzmq.backend.cython.socket._recv_copy (zmq/backend/cython/socket.c:2344)\u001b[0;34m()\u001b[0m\n",
      "\u001b[0;32m~/anaconda3/lib/python3.6/site-packages/zmq/backend/cython/checkrc.pxd\u001b[0m in \u001b[0;36mzmq.backend.cython.checkrc._check_rc (zmq/backend/cython/socket.c:9621)\u001b[0;34m()\u001b[0m\n",
      "\u001b[0;31mKeyboardInterrupt\u001b[0m: ",
      "\nDuring handling of the above exception, another exception occurred:\n",
      "\u001b[0;31mKeyboardInterrupt\u001b[0m                         Traceback (most recent call last)",
      "\u001b[0;32m<ipython-input-5-8ba660561808>\u001b[0m in \u001b[0;36m<module>\u001b[0;34m()\u001b[0m\n\u001b[1;32m      6\u001b[0m \u001b[0mplt\u001b[0m\u001b[0;34m.\u001b[0m\u001b[0mimshow\u001b[0m\u001b[0;34m(\u001b[0m\u001b[0mimg\u001b[0m\u001b[0;34m)\u001b[0m\u001b[0;34m;\u001b[0m\u001b[0;34m\u001b[0m\u001b[0m\n\u001b[1;32m      7\u001b[0m \u001b[0mprint\u001b[0m\u001b[0;34m(\u001b[0m\u001b[0;34m\"enter dimensions of the new image\"\u001b[0m\u001b[0;34m)\u001b[0m\u001b[0;34m;\u001b[0m\u001b[0;34m\u001b[0m\u001b[0m\n\u001b[0;32m----> 8\u001b[0;31m \u001b[0mr\u001b[0m\u001b[0;34m,\u001b[0m\u001b[0mc\u001b[0m  \u001b[0;34m=\u001b[0m \u001b[0minput\u001b[0m\u001b[0;34m(\u001b[0m\u001b[0;34m)\u001b[0m\u001b[0;34m.\u001b[0m\u001b[0msplit\u001b[0m\u001b[0;34m(\u001b[0m\u001b[0;34m)\u001b[0m\u001b[0;34m;\u001b[0m\u001b[0;34m\u001b[0m\u001b[0m\n\u001b[0m\u001b[1;32m      9\u001b[0m \u001b[0mr\u001b[0m \u001b[0;34m=\u001b[0m \u001b[0mint\u001b[0m\u001b[0;34m(\u001b[0m\u001b[0mr\u001b[0m\u001b[0;34m)\u001b[0m\u001b[0;34m;\u001b[0m\u001b[0;34m\u001b[0m\u001b[0m\n\u001b[1;32m     10\u001b[0m \u001b[0mc\u001b[0m \u001b[0;34m=\u001b[0m \u001b[0mint\u001b[0m\u001b[0;34m(\u001b[0m\u001b[0mc\u001b[0m\u001b[0;34m)\u001b[0m\u001b[0;34m;\u001b[0m\u001b[0;34m\u001b[0m\u001b[0m\n",
      "\u001b[0;32m~/anaconda3/lib/python3.6/site-packages/ipykernel/kernelbase.py\u001b[0m in \u001b[0;36mraw_input\u001b[0;34m(self, prompt)\u001b[0m\n\u001b[1;32m    703\u001b[0m             \u001b[0mself\u001b[0m\u001b[0;34m.\u001b[0m\u001b[0m_parent_ident\u001b[0m\u001b[0;34m,\u001b[0m\u001b[0;34m\u001b[0m\u001b[0m\n\u001b[1;32m    704\u001b[0m             \u001b[0mself\u001b[0m\u001b[0;34m.\u001b[0m\u001b[0m_parent_header\u001b[0m\u001b[0;34m,\u001b[0m\u001b[0;34m\u001b[0m\u001b[0m\n\u001b[0;32m--> 705\u001b[0;31m             \u001b[0mpassword\u001b[0m\u001b[0;34m=\u001b[0m\u001b[0;32mFalse\u001b[0m\u001b[0;34m,\u001b[0m\u001b[0;34m\u001b[0m\u001b[0m\n\u001b[0m\u001b[1;32m    706\u001b[0m         )\n\u001b[1;32m    707\u001b[0m \u001b[0;34m\u001b[0m\u001b[0m\n",
      "\u001b[0;32m~/anaconda3/lib/python3.6/site-packages/ipykernel/kernelbase.py\u001b[0m in \u001b[0;36m_input_request\u001b[0;34m(self, prompt, ident, parent, password)\u001b[0m\n\u001b[1;32m    733\u001b[0m             \u001b[0;32mexcept\u001b[0m \u001b[0mKeyboardInterrupt\u001b[0m\u001b[0;34m:\u001b[0m\u001b[0;34m\u001b[0m\u001b[0m\n\u001b[1;32m    734\u001b[0m                 \u001b[0;31m# re-raise KeyboardInterrupt, to truncate traceback\u001b[0m\u001b[0;34m\u001b[0m\u001b[0;34m\u001b[0m\u001b[0m\n\u001b[0;32m--> 735\u001b[0;31m                 \u001b[0;32mraise\u001b[0m \u001b[0mKeyboardInterrupt\u001b[0m\u001b[0;34m\u001b[0m\u001b[0m\n\u001b[0m\u001b[1;32m    736\u001b[0m             \u001b[0;32melse\u001b[0m\u001b[0;34m:\u001b[0m\u001b[0;34m\u001b[0m\u001b[0m\n\u001b[1;32m    737\u001b[0m                 \u001b[0;32mbreak\u001b[0m\u001b[0;34m\u001b[0m\u001b[0m\n",
      "\u001b[0;31mKeyboardInterrupt\u001b[0m: "
     ]
    }
   ],
   "source": [
    "img = plt.imread(\"/media/shubham/New Volume/DAIICT/2nd sem/DIP/assignment 1/img1.jpg\");\n",
    "print(img.shape)\n",
    "#print(img);\n",
    "plt.subplot(121);\n",
    "plt.gray();\n",
    "plt.imshow(img);\n",
    "print(\"enter dimensions of the new image\");\n",
    "r,c  = input().split();\n",
    "r = int(r);\n",
    "c = int(c);\n",
    "new_img = bilinear_inp(img,r,c);\n",
    "plt.subplot(122);\n",
    "plt.imshow(new_img)\n",
    "plt.show();"
   ]
  },
  {
   "cell_type": "code",
   "execution_count": null,
   "metadata": {
    "collapsed": true,
    "deletable": true,
    "editable": true
   },
   "outputs": [],
   "source": [
    "a = np.array([[2,1],[2,4]])\n",
    "print(a[0,0])\n",
    "\n",
    "b = np.array([[12],[23],[23],[12]]);\n",
    "print(b_mat)"
   ]
  },
  {
   "cell_type": "markdown",
   "metadata": {
    "deletable": true,
    "editable": true
   },
   "source": [
    "# 2 IMAGE ROTATION"
   ]
  },
  {
   "cell_type": "code",
   "execution_count": 22,
   "metadata": {
    "collapsed": false,
    "deletable": true,
    "editable": true
   },
   "outputs": [
    {
     "name": "stdout",
     "output_type": "stream",
     "text": [
      "(437, 778)\n",
      "(1000, 1000)\n"
     ]
    }
   ],
   "source": [
    "img = plt.imread(\"/media/shubham/New Volume/DAIICT/2nd sem/DIP/assignment 1/img1.jpg\");\n",
    "n_rows = img.shape[0];\n",
    "n_cols = img.shape[1];\n",
    "x0 = n_rows/2;\n",
    "y0 = n_cols/2;\n",
    "theta = 65;\n",
    "degree = math.radians(theta);\n",
    "new_img = np.zeros((1000,1000))\n",
    "#new_img = np.zeros((n_rows+n_rows//5,n_cols+n_cols//5));\n",
    "print(img.shape)\n",
    "print(new_img.shape)\n",
    "mat_d = np.array([[math.cos(degree),math.sin(degree)],[math.sin(-degree),math.cos(degree)]])\n",
    "for row in range(0,new_img.shape[0]-1):\n",
    "    for col in range(0,new_img.shape[1]-1):\n",
    "        old_xy = np.matmul(np.transpose(mat_d),np.array([[row-x0],[col-y0]]))+np.array([[x0],[y0-300]]);\n",
    "        #new_x_y = np.matmul(np.array([[math.cos(degree),math.sin(degree)],[math.sin(-degree),math.cos(degree)]]),np.array([[row],[col]]));\n",
    "        #print(new_x_y)\n",
    "        #print(old_xy);\n",
    "        if((0<old_xy[0] and old_xy[0])<n_rows-1 and (0<old_xy[1] and old_xy[1]<n_cols-1)):\n",
    "            coeff = calculation(img,int(old_xy[0]),int(old_xy[1]));\n",
    "            new_img[row,col] =  math.floor((coeff[0]*old_xy[0]) + (coeff[1]*old_xy[1]) + (coeff[2]*old_xy[0]*old_xy[1]) + coeff[3]);\n",
    "            #new_img[row,col] = img[int(old_xy[0]),int(old_xy[1])];\n",
    "plt.subplot(121);\n",
    "plt.gray();\n",
    "plt.imshow(img);   \n",
    "plt.subplot(122)\n",
    "plt.gray();        \n",
    "plt.imshow(new_img);\n",
    "plt.show()"
   ]
  },
  {
   "cell_type": "code",
   "execution_count": 103,
   "metadata": {
    "collapsed": true,
    "deletable": true,
    "editable": true
   },
   "outputs": [],
   "source": [
    "#matrix calculation\n",
    "def matrix_calculation(x,y,row_origin,col_origin,new_row_origin,new_col_origin,rotation_mat):\n",
    "    input_mat = np.array([[x-new_row_origin],[y-new_col_origin]])\n",
    "    new_xy = np.matmul(rotation_mat, input_mat) + np.array([[row_origin],[col_origin]])\n",
    "    return new_xy"
   ]
  },
  {
   "cell_type": "code",
   "execution_count": 105,
   "metadata": {
    "collapsed": true,
    "deletable": true,
    "editable": true
   },
   "outputs": [],
   "source": [
    "def rotate(image1,degree):\n",
    "    row_origin = int(image1.shape[0]/2)\n",
    "    col_origin = int(image1.shape[1]/2)\n",
    "    new_row = int(image1.shape[0]*math.sqrt(2)) + 260\n",
    "    new_col = int(image1.shape[1]*math.sqrt(2))\n",
    "    new_row_origin = new_row/2\n",
    "    new_col_origin = new_col/2\n",
    "    theta = math.radians(degree);\n",
    "    rotation_mat = np.array([[math.cos(theta), -math.sin(theta)],[math.sin(theta), math.cos(theta)]]);\n",
    "    new_img = np.full((new_row, new_col),255, dtype=np.uint16)\n",
    "    for rows in range (0,new_row-1):\n",
    "        for cols in range (0,new_col-1):\n",
    "            temp = matrix_calculation(rows,cols,row_origin,col_origin,new_row_origin,new_col_origin,rotation_mat)\n",
    "            x = np.uint16(temp[0][0])\n",
    "            y = np.uint16(temp[1][0])\n",
    "            if(x>0 and x<image1.shape[0] and y>0 and y<image1.shape[1]):\n",
    "                new_img[rows][cols] = image1[x][y]\n",
    "    return new_img"
   ]
  },
  {
   "cell_type": "code",
   "execution_count": 107,
   "metadata": {
    "collapsed": false,
    "deletable": true,
    "editable": true
   },
   "outputs": [
    {
     "name": "stdout",
     "output_type": "stream",
     "text": [
      "enter the rotation degree clockwise\n",
      "90\n",
      "how many time rotation\n",
      "4\n"
     ]
    },
    {
     "name": "stderr",
     "output_type": "stream",
     "text": [
      "/home/shubham/anaconda3/lib/python3.6/site-packages/matplotlib/cbook/deprecation.py:106: MatplotlibDeprecationWarning: Adding an axes using the same arguments as a previous axes currently reuses the earlier instance.  In a future version, a new instance will always be created and returned.  Meanwhile, this warning can be suppressed, and the future behavior ensured, by passing a unique label to each axes instance.\n",
      "  warnings.warn(message, mplDeprecation, stacklevel=1)\n"
     ]
    }
   ],
   "source": [
    "image1 = cv2.imread(\"/media/shubham/New Volume/DAIICT/2nd sem/DIP/assignment 1/img1.jpg\",0);\n",
    "print(\"enter the rotation degree clockwise\");\n",
    "degree = int(input());\n",
    "print(\"how many time rotation\")\n",
    "n = int(input());\n",
    "new_img = rotate(image1,degree);\n",
    "for i in range(0,n-1):\n",
    "    new_img = rotate(new_img,degree);\n",
    "plt.subplot(121);\n",
    "plt.gray();\n",
    "plt.imshow(image1);   \n",
    "plt.subplot(122)\n",
    "plt.gray();        \n",
    "plt.imshow(new_img);\n",
    "plt.show()\n"
   ]
  },
  {
   "cell_type": "code",
   "execution_count": 104,
   "metadata": {
    "collapsed": false,
    "deletable": true,
    "editable": true
   },
   "outputs": [
    {
     "name": "stdout",
     "output_type": "stream",
     "text": [
      "enter the rotation degree clockwise\n",
      "180\n"
     ]
    }
   ],
   "source": [
    "image1 = cv2.imread(\"/media/shubham/New Volume/DAIICT/2nd sem/DIP/assignment 1/img1.jpg\",0);\n",
    "print(\"enter the rotation degree clockwise\");\n",
    "degree = int(input());\n",
    "row_origin = int(image1.shape[0]/2)\n",
    "col_origin = int(image1.shape[1]/2)\n",
    "new_row = int(image1.shape[0]*math.sqrt(2)) + 260\n",
    "new_col = int(image1.shape[1]*math.sqrt(2))\n",
    "new_row_origin = new_row/2\n",
    "new_col_origin = new_col/2\n",
    "theta = math.radians(degree);\n",
    "rotation_mat = np.array([[math.cos(theta), -math.sin(theta)],[math.sin(theta), math.cos(theta)]]);\n",
    "new_img = np.full((new_row, new_col),255, dtype=np.uint16)\n",
    "for rows in range (0,new_row-1):\n",
    "    for cols in range (0,new_col-1):\n",
    "        temp = matrix_calculation(rows,cols,row_origin,col_origin,new_row_origin,new_col_origin,rotation_mat)\n",
    "        x = np.uint16(temp[0][0])\n",
    "        y = np.uint16(temp[1][0])\n",
    "        if(x>0 and x<image1.shape[0] and y>0 and y<image1.shape[1]):\n",
    "            new_img[rows][cols] = image1[x][y]\n",
    "plt.subplot(121);\n",
    "plt.gray();\n",
    "plt.imshow(image1);   \n",
    "plt.subplot(122)\n",
    "plt.gray();        \n",
    "plt.imshow(new_img);\n",
    "plt.show()"
   ]
  },
  {
   "cell_type": "markdown",
   "metadata": {
    "deletable": true,
    "editable": true
   },
   "source": [
    "\n",
    "# Question 3 : Image Registration"
   ]
  },
  {
   "cell_type": "code",
   "execution_count": 29,
   "metadata": {
    "collapsed": false,
    "deletable": true,
    "editable": true
   },
   "outputs": [
    {
     "name": "stdout",
     "output_type": "stream",
     "text": [
      "[(242.625, 68.360483870967641), (531.23790322580646, 102.86854838709672), (531.23790322580646, 186.00161290322575), (302.22983870967744, 190.70725806451605)]\n",
      "(4, 2)\n",
      "[ 242.625       531.23790323  531.23790323  302.22983871]\n",
      "[[ 242.625     ]\n",
      " [ 531.23790323]\n",
      " [ 531.23790323]\n",
      " [ 302.22983871]]\n",
      "(4, 1)\n"
     ]
    }
   ],
   "source": [
    "image1 = cv2.imread(\"/media/shubham/New Volume/DAIICT/2nd sem/DIP/assignment 1/img1.jpg\",0);\n",
    "plt.gray()\n",
    "plt.imshow(image1)\n",
    "plt.show()\n",
    "points = plt.ginput(4);\n",
    "print(points)\n",
    "print(np.array(points).shape)\n",
    "d = np.array(points)[:,0];\n",
    "print(d);\n",
    "e = np.reshape(d,(4,1))\n",
    "print(e)\n",
    "print(e.shape)"
   ]
  },
  {
   "cell_type": "code",
   "execution_count": 93,
   "metadata": {
    "collapsed": true,
    "deletable": true,
    "editable": true
   },
   "outputs": [],
   "source": [
    "def calculation(A,B):\n",
    "    X = np.matmul(np.transpose(A),A)\n",
    "    Y = np.matmul(np.linalg.inv(X),np.transpose(A));\n",
    "    print(X.shape,Y.shape)\n",
    "    coeff = np.matmul(Y,B)\n",
    "    return coeff\n",
    "    #print(coeff)"
   ]
  },
  {
   "cell_type": "code",
   "execution_count": 101,
   "metadata": {
    "collapsed": false,
    "deletable": true,
    "editable": true
   },
   "outputs": [
    {
     "name": "stdout",
     "output_type": "stream",
     "text": [
      "[[  4.51241935e+02   1.70316129e+02   7.68537797e+04   1.00000000e+00\n",
      "    0.00000000e+00   0.00000000e+00   0.00000000e+00   0.00000000e+00]\n",
      " [  4.44967742e+02   1.24828226e+02   5.55445338e+04   1.00000000e+00\n",
      "    0.00000000e+00   0.00000000e+00   0.00000000e+00   0.00000000e+00]\n",
      " [  2.88112903e+02   3.85207258e+02   1.10983181e+05   1.00000000e+00\n",
      "    0.00000000e+00   0.00000000e+00   0.00000000e+00   0.00000000e+00]\n",
      " [  4.21439516e+02   3.69895161e+01   1.55888438e+04   1.00000000e+00\n",
      "    0.00000000e+00   0.00000000e+00   0.00000000e+00   0.00000000e+00]\n",
      " [  0.00000000e+00   0.00000000e+00   0.00000000e+00   0.00000000e+00\n",
      "    4.51241935e+02   1.70316129e+02   7.68537797e+04   1.00000000e+00]\n",
      " [  0.00000000e+00   0.00000000e+00   0.00000000e+00   0.00000000e+00\n",
      "    4.44967742e+02   1.24828226e+02   5.55445338e+04   1.00000000e+00]\n",
      " [  0.00000000e+00   0.00000000e+00   0.00000000e+00   0.00000000e+00\n",
      "    2.88112903e+02   3.85207258e+02   1.10983181e+05   1.00000000e+00]\n",
      " [  0.00000000e+00   0.00000000e+00   0.00000000e+00   0.00000000e+00\n",
      "    4.21439516e+02   3.69895161e+01   1.55888438e+04   1.00000000e+00]]\n",
      "(8, 8)\n",
      "(8, 1)\n",
      "(8, 8) (8, 8)\n"
     ]
    }
   ],
   "source": [
    "image1 = cv2.imread(\"/media/shubham/New Volume/DAIICT/2nd sem/DIP/assignment 1/img1.jpg\",0);\n",
    "plt.gray()\n",
    "plt.imshow(image1)\n",
    "plt.show()\n",
    "points = plt.ginput(4);\n",
    "x_y = np.array(points);\n",
    "ones = np.ones((len(points),1));\n",
    "temp =[];\n",
    "for i in x_y:\n",
    "        temp.append(i[0]*i[1]);\n",
    "temp = np.array(temp)\n",
    "temp = np.reshape(temp,(len(points),1))\n",
    "\n",
    "zeros = np.zeros((len(points),4));\n",
    "x_y_u = np.concatenate((x_y,temp),1)\n",
    "x_y_u = np.concatenate((x_y_u,ones),1);\n",
    "\n",
    "\n",
    "x_y_d = np.concatenate((zeros,x_y_u),1);\n",
    "x_y_u = np.concatenate((x_y_u,zeros),1);\n",
    "#x_y_d = np.concatenate((x_y_d,x_y),1);\n",
    "#print(x_y_u)\n",
    "#print(x_y_d)\n",
    "x_y_final = np.concatenate((x_y_u,x_y_d),0)\n",
    "plt.close()\n",
    "\n",
    "image2 = cv2.imread(\"/media/shubham/New Volume/DAIICT/2nd sem/DIP/assignment 1/img2.jpg\",0);\n",
    "plt.gray()\n",
    "plt.imshow(image2)\n",
    "plt.show()\n",
    "points = plt.ginput(4)\n",
    "plt.close()\n",
    "x_y_2 = np.array(points)\n",
    "x_2 = x_y_2[:,0]\n",
    "x_2 = np.reshape(x_2,(len(points),1))\n",
    "y_2 = x_y_2[:,1]\n",
    "y_2 = np.reshape(y_2,(len(points),1))\n",
    "x_y_2_final = np.concatenate((x_2,y_2),0)\n",
    "print(x_y_final)\n",
    "print(x_y_final.shape)\n",
    "print(x_y_2_final.shape)\n",
    "coeffs  = calculation(x_y_final,x_y_2_final)\n",
    "\n",
    "rows = image1.shape[0];\n",
    "cols = image2.shape[1];\n",
    "image3 = np.zeros((image1.shape[0],image2.shape[1]),dtype=np.uint16)\n",
    "for i in range(0,rows-1):\n",
    "    for j in range(0,cols-1):\n",
    "        x1 = int(coeffs[0]*i + coeffs[1]*j + coeffs[2]*i*j + coeffs[3]);\n",
    "        y1 = int(coeffs[4]*i + coeffs[5]*j + coeffs[6]*i*j + coeffs[7]);\n",
    "        if(x1>0 and x1<rows and y1>0 and y1<cols):\n",
    "            image3[i,j] = max(image1[i,j],image2[x1,y1]);\n",
    "plt.gray()\n",
    "plt.imshow(image3)\n",
    "plt.show();"
   ]
  }
 ],
 "metadata": {
  "kernelspec": {
   "display_name": "Python 3",
   "language": "python",
   "name": "python3"
  },
  "language_info": {
   "codemirror_mode": {
    "name": "ipython",
    "version": 3
   },
   "file_extension": ".py",
   "mimetype": "text/x-python",
   "name": "python",
   "nbconvert_exporter": "python",
   "pygments_lexer": "ipython3",
   "version": "3.6.4"
  }
 },
 "nbformat": 4,
 "nbformat_minor": 2
}
