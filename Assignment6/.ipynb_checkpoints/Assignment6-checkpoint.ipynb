{
 "cells": [
  {
   "cell_type": "code",
   "execution_count": 1,
   "metadata": {},
   "outputs": [
    {
     "name": "stdout",
     "output_type": "stream",
     "text": [
      "Using matplotlib backend: Qt5Agg\n"
     ]
    }
   ],
   "source": [
    "import matplotlib\n",
    "%matplotlib\n",
    "import math\n",
    "import cmath\n",
    "import numpy as np\n",
    "import matplotlib.pyplot as plt\n",
    "from scipy import misc\n",
    "from scipy import ndimage\n",
    "from numpy.linalg import inv\n",
    "from scipy.linalg import circulant\n",
    "import cv2"
   ]
  },
  {
   "cell_type": "code",
   "execution_count": null,
   "metadata": {},
   "outputs": [],
   "source": [
    "#Function to estimate the variance of the supplied window sized image using histogram of the patch\n",
    "def estimate_var(img,M1,N1,M2,N2):\n",
    "    #Taking window of the defined size\n",
    "    img1 = img[M1:M2,N1:N2]\n",
    "    plt.figure()\n",
    "    n , bins , patches = plt.hist(img1.ravel(), bins=256, range=(0, 255),normed='True')\n",
    "    plt.show()    \n",
    "    mean = 0\n",
    "    for i in range(n.shape[0]):\n",
    "        mean += i * n[i]\n",
    "    img1 = img1 - mean\n",
    "    var = 0\n",
    "    for i in range(n.shape[0]):\n",
    "        var += ((i-mean) ** 2) * n[i]\n",
    "    return var\n",
    "    "
   ]
  },
  {
   "cell_type": "code",
   "execution_count": null,
   "metadata": {},
   "outputs": [],
   "source": [
    "#Function to \n",
    "def myAdaptiveLNR(img,M1,N1,M2,N2,window_size):\n",
    "    var_n = estimate_var(img,M1,N1,M2,N2)\n",
    "    print(var_n)\n",
    "    M = img.shape[0]\n",
    "    N = img.shape[1]\n",
    "    k = (window_size-1) // 2\n",
    "    img1 = np.zeros(shape=(M+2*k,N+2*k),dtype=np.unsignedinteger)\n",
    "    img1[k:M+k,k:N+k] = img\n",
    "    #plt.imshow(img1)\n",
    "    for i in range(k,M+k):\n",
    "        for j in range(k,N+k):\n",
    "            sub_i = img1[i-k:i+k+1,j-k:j+k+1]\n",
    "            var_loc = np.var(sub_i)\n",
    "            mean_loc = np.mean(sub_i)\n",
    "            if (var_n < var_loc):\n",
    "                img[i-k,j-k] = int(img1[i-k,j-k] -  (var_n/var_loc) * (img1[i-k,j-k] - mean_loc))\n",
    "            else:\n",
    "                img[i-k,j-k] = mean_loc\n",
    "    return img,var_n"
   ]
  },
  {
   "cell_type": "code",
   "execution_count": null,
   "metadata": {},
   "outputs": [],
   "source": [
    "def imnoise(img,noise_type,amt=0):\n",
    "    if(noise_type == 'gaussian'):\n",
    "        row,col = img.shape\n",
    "        mean = 5\n",
    "        var = 15\n",
    "        sigma = var**0.5\n",
    "        gauss_noise = np.random.normal(mean,sigma,(row,col))\n",
    "        gauss_noise = gauss_noise.reshape(row,col)\n",
    "        noisy_img = img + gauss_noise\n",
    "        return noisy_img\n",
    "    elif noise_type == \"s&p\":\n",
    "        row,col= img.shape\n",
    "        s_vs_p = 0.5\n",
    "        amount = amt\n",
    "        out = np.copy(img)\n",
    "      # Salt mode\n",
    "        num_salt = np.ceil((amount/2) * img.size * s_vs_p)\n",
    "        coords = [np.random.randint(0, i - 1, int(num_salt))\n",
    "                  for i in img.shape]\n",
    "        out[coords] = 255\n",
    "\n",
    "      # Pepper mode\n",
    "        num_pepper = np.ceil((amount/2)* img.size * (1. - s_vs_p))\n",
    "        coords = [np.random.randint(0, i - 1, int(num_pepper))\n",
    "              for i in img.shape]\n",
    "        out[coords] = 0\n",
    "        return out\n",
    "    else:\n",
    "        return"
   ]
  },
  {
   "cell_type": "code",
   "execution_count": null,
   "metadata": {},
   "outputs": [],
   "source": [
    "def myAdaptiveMed(img,Smax):\n",
    "    Smin = 3\n",
    "    count = 0\n",
    "    M = img.shape[0]\n",
    "    N = img.shape[1]\n",
    "    k = (Smax-1) // 2\n",
    "    img1 = np.zeros(shape=(M+2*k,N+2*k))\n",
    "    img1[k:M+k,k:N+k] = img\n",
    "    for i in range(k,M-k):\n",
    "        for j in range(k,N-k):\n",
    "            flag = 1\n",
    "            Smin = 3\n",
    "            #print(\"yes\")\n",
    "            while(flag):\n",
    "                k1 = (Smin - 1) // 2\n",
    "                #print(i,j,k1)\n",
    "                sub_i = img1[i-k1:i+k1+1,j-k1:j+k1+1]\n",
    "                #print(sub_i.shape)\n",
    "                zmed = int(np.median(sub_i))\n",
    "                zmax = np.max(sub_i)\n",
    "                zmin = np.min(sub_i)\n",
    "                A1 = zmed - zmin\n",
    "                A2 = zmed - zmax\n",
    "                if A1 > 0 and A2 < 0:\n",
    "                    B1 = img1[i,j] - zmin\n",
    "                    B2 = img1[i,j] - zmax\n",
    "                    if(B1 > 0 and B2 < 0):\n",
    "                        img[i,j] = img1[i,j]\n",
    "                        flag = 0\n",
    "                    else:\n",
    "                        flag = 0\n",
    "                        img[i,j] = zmed\n",
    "                else:\n",
    "                    Smin += 2\n",
    "                    if(Smin > Smax):\n",
    "                        flag = 0\n",
    "                        count += 1\n",
    "                        img[i,j] = img1[i,j]\n",
    "                        break\n",
    "    return img"
   ]
  },
  {
   "cell_type": "code",
   "execution_count": null,
   "metadata": {},
   "outputs": [],
   "source": [
    "def mymed2d(img,M,N):\n",
    "    new_img = np.zeros(shape=(img.shape[0]+M,img.shape[1] + N),dtype=np.integer)\n",
    "    new_img[M-1 : -1,N-1 : -1] = img\n",
    "    new_med_img = np.zeros(shape=(img.shape[0],img.shape[1] ))\n",
    "    for i in range(new_med_img.shape[0]):\n",
    "        for j in range(new_med_img.shape[1]):\n",
    "            new_med_img[i,j] = int(np.median(new_img[i:i+M , j:j+N]))                \n",
    "    return new_med_img"
   ]
  },
  {
   "cell_type": "code",
   "execution_count": null,
   "metadata": {},
   "outputs": [],
   "source": [
    "img = cv2.imread('af.png',0)\n",
    "print(\"Original Image\")\n",
    "plt.figure()\n",
    "plt.imshow(img)\n",
    "plt.gray()\n",
    "w_size = 15\n",
    "# add noise to image \n",
    "density = [0.05,0.1,0.5]\n",
    "for dens in density:\n",
    "    noisy_img  = imnoise(img,'s&p',dens)\n",
    "    plt.figure()\n",
    "    plt.subplot(132)\n",
    "    plt.imshow(noisy_img)\n",
    "    output_std = mymed2d(noisy_img,7,7)\n",
    "    plt.subplot(131)\n",
    "    plt.imshow(output_std)\n",
    "    output = myAdaptiveMed(noisy_img,w_size)\n",
    "    #input image\n",
    "    plt.title(\"Standard median\")\n",
    "    #output image\n",
    "    plt.subplot(133)\n",
    "    plt.imshow(output)\n",
    "    #plt.gray()\n",
    "    plt.show()\n",
    "#output = myAdaptiveMed(noisy_img,w_size)\n",
    "#plt.imshow(output)\n",
    "#plt.show()"
   ]
  },
  {
   "cell_type": "code",
   "execution_count": null,
   "metadata": {},
   "outputs": [],
   "source": []
  }
 ],
 "metadata": {
  "kernelspec": {
   "display_name": "Python 3",
   "language": "python",
   "name": "python3"
  },
  "language_info": {
   "codemirror_mode": {
    "name": "ipython",
    "version": 3
   },
   "file_extension": ".py",
   "mimetype": "text/x-python",
   "name": "python",
   "nbconvert_exporter": "python",
   "pygments_lexer": "ipython3",
   "version": "3.6.4"
  }
 },
 "nbformat": 4,
 "nbformat_minor": 2
}
