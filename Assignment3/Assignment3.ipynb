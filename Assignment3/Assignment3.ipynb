{
 "cells": [
  {
   "cell_type": "code",
   "execution_count": 2,
   "metadata": {
    "collapsed": false,
    "deletable": true,
    "editable": true,
    "scrolled": true
   },
   "outputs": [
    {
     "name": "stdout",
     "output_type": "stream",
     "text": [
      "Using matplotlib backend: MacOSX\n"
     ]
    }
   ],
   "source": [
    "%matplotlib \n",
    "import numpy as np\n",
    "import matplotlib.pyplot as plt\n",
    "from scipy import misc\n",
    "from numpy.linalg import inv\n",
    "from PIL import Image, ImageDraw\n",
    "import matplotlib.patches as patches"
   ]
  },
  {
   "cell_type": "code",
   "execution_count": null,
   "metadata": {
    "collapsed": false,
    "deletable": true,
    "editable": true,
    "scrolled": true
   },
   "outputs": [],
   "source": [
    "def shift_mask(mask):\n",
    "    M = mask.shape[0]\n",
    "    N = mask.shape[1]\n",
    "    new_mask = np.zeros(shape=(mask.shape[0],mask.shape[1]))\n",
    "    if(M!=N or M%2 == 0):\n",
    "        print(\"Invalid Mask supplied\")\n",
    "        return mask\n",
    "    else:\n",
    "        center = int(M/2)\n",
    "        for i in range(mask.shape[0]):\n",
    "            for j in range(mask.shape[1]):\n",
    "                new_mask[i,j] = mask[2*center - i , 2*center - j]\n",
    "        return new_mask"
   ]
  },
  {
   "cell_type": "code",
   "execution_count": null,
   "metadata": {
    "collapsed": false,
    "deletable": true,
    "editable": true,
    "scrolled": true
   },
   "outputs": [],
   "source": [
    "def myconv2d(img,mask,median=False):\n",
    "    mask = shift_mask(mask)\n",
    "    M = mask.shape[0]\n",
    "    N = mask.shape[1]\n",
    "    offset_row = int(M/2)\n",
    "    offset_col = int(N/2)\n",
    "    new_img = np.zeros(shape=(img.shape[0]+M,img.shape[1] + N),dtype=np.integer)\n",
    "    new_img[M-1 : -1,N-1 : -1] = img\n",
    "    new_conv_img = np.zeros(shape=(img.shape[0],img.shape[1] ))\n",
    "    for i in range(new_conv_img.shape[0]):\n",
    "        for j in range(new_conv_img.shape[1]):\n",
    "            if(median):\n",
    "                new_conv_img[i,j] = int(np.median(new_img[i:i+M , j:j+N]))\n",
    "            else:\n",
    "                #print(new_img[i:i+M , j:j+N])\n",
    "                #print(i,j,i+M,j+N)\n",
    "                new_conv_img[i,j] = abs(int(np.sum(mask * new_img[i:i+M , j:j+N])))\n",
    "                if new_conv_img[i,j] >= 255:\n",
    "                    new_conv_img[i,j] = 255\n",
    "                \n",
    "    \n",
    "    return new_conv_img\n",
    "    #return(img * mask)"
   ]
  },
  {
   "cell_type": "code",
   "execution_count": null,
   "metadata": {
    "collapsed": true,
    "deletable": true,
    "editable": true,
    "scrolled": true
   },
   "outputs": [],
   "source": [
    "def img_subtract(img1 , img2):\n",
    "    new_img = np.zeros(shape=(img1.shape[0],img1.shape[1]))\n",
    "    for i in range(img1.shape[0]):\n",
    "        for j in range(img1.shape[1]):\n",
    "            new_img[i,j] = abs(img1[i,j] - img2[i,j])\n",
    "    return new_img\n"
   ]
  },
  {
   "cell_type": "code",
   "execution_count": null,
   "metadata": {
    "collapsed": false,
    "deletable": true,
    "editable": true,
    "scrolled": false
   },
   "outputs": [],
   "source": [
    "img = misc.imread('lena.jpg',mode=\"L\")\n",
    "print(\"Original Image\")\n",
    "plt.imshow(img)\n",
    "plt.gray()\n",
    "plt.show()\n",
    "#Constructing X as row-major order\n",
    "X = np.array([[1 , -1 , -1],[1 , -1 , 0] , [1 , -1 , 1] , [1 , 0 , -1] , [1 , 0 , 0] , [1 , 0 , 1] , [1 , 1 , -1] , [1 , 1 , 0] , [1 , 1 , 1]])\n",
    "beta_m = np.dot(inv(np.dot(X.T,X)) , X.T)\n",
    "#beta_m is the solution to the problem Q2(a) which gives beta(min) matrix\n",
    "#Now calculating three masks by taking row major order and shifting with reference of origin\n",
    "mask1 = shift_mask(beta_m[0].reshape(3 , 3))\n",
    "mask2 = shift_mask(beta_m[1].reshape(3 , 3))\n",
    "mask3 = shift_mask(beta_m[2].reshape(3 , 3))\n",
    "img1 = myconv2d(img,mask1)\n",
    "img2 = myconv2d(img,mask2)\n",
    "img3 = myconv2d(img,mask3)\n",
    "\n",
    "\n",
    "#For Question2 (c). Adding noise in X(beta)\n",
    "#Defining Weight matrices for noise in image capturing device\n",
    "W = np.zeros(shape=(9,9))\n",
    "W[0][0] = 1\n",
    "W[1][1] = 2\n",
    "W[2][2] = 1\n",
    "W[3][3] = 2\n",
    "W[4][4] = 4\n",
    "W[5][5] = 2\n",
    "W[6][6] = 1\n",
    "W[7][7] = 2\n",
    "W[8][8] = 1\n",
    "\n",
    "#k1 = inv(np.dot((np.dot(X.T,W.T)),W))\n",
    "beta_m1 = np.dot(inv(np.dot((np.dot(X.T,W.T)),np.dot(W,X))),np.dot(np.dot(X.T,W.T),W))\n",
    "mask4 = shift_mask(beta_m1[0].reshape(3 , 3))\n",
    "mask5 = shift_mask(beta_m1[1].reshape(3 , 3))\n",
    "mask6 = shift_mask(beta_m1[2].reshape(3 , 3))\n",
    "img4 = myconv2d(img,mask4)\n",
    "img5 = myconv2d(img,mask5)\n",
    "img6 = myconv2d(img,mask6)\n",
    "#Ploting all images\n",
    "plt.figure()\n",
    "print(mask1,mask4)\n",
    "plt.subplot(1,2,1)\n",
    "plt.imshow(img1)\n",
    "plt.subplot(1,2,2)\n",
    "plt.imshow(img4)\n",
    "plt.show()\n",
    "plt.figure()\n",
    "print(mask2,mask5)\n",
    "plt.subplot(1,2,1)\n",
    "plt.imshow(img2)\n",
    "plt.subplot(1,2,2)\n",
    "plt.imshow(img5)\n",
    "plt.show()\n",
    "plt.figure()\n",
    "print(mask3,mask6)\n",
    "plt.subplot(1,2,1)\n",
    "plt.imshow(img3)\n",
    "plt.subplot(1,2,2)\n",
    "plt.imshow(img6)\n",
    "plt.show()\n",
    "\n",
    "plt.imshow(img_subtract(img1,img4))\n",
    "plt.show()\n",
    "plt.imshow(img_subtract(img2,img5))\n",
    "plt.show()\n",
    "plt.imshow(img_subtract(img3,img6))\n",
    "plt.show()"
   ]
  }
 ],
 "metadata": {
  "kernelspec": {
   "display_name": "Python 3",
   "language": "python",
   "name": "python3"
  },
  "language_info": {
   "codemirror_mode": {
    "name": "ipython",
    "version": 3
   },
   "file_extension": ".py",
   "mimetype": "text/x-python",
   "name": "python",
   "nbconvert_exporter": "python",
   "pygments_lexer": "ipython3",
   "version": "3.6.4"
  }
 },
 "nbformat": 4,
 "nbformat_minor": 2
}
